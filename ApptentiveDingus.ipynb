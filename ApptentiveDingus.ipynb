{
  "nbformat": 4,
  "nbformat_minor": 0,
  "metadata": {
    "colab": {
      "name": "ApptentiveDingus.ipynb",
      "provenance": [],
      "collapsed_sections": [],
      "authorship_tag": "ABX9TyPJ1O6tXEAe10a4gMOceShL",
      "include_colab_link": true
    },
    "kernelspec": {
      "name": "python3",
      "display_name": "Python 3"
    },
    "language_info": {
      "name": "python"
    }
  },
  "cells": [
    {
      "cell_type": "markdown",
      "metadata": {
        "id": "view-in-github",
        "colab_type": "text"
      },
      "source": [
        "<a href=\"https://colab.research.google.com/github/MrSalta/Apptentive-Dingus/blob/colab/ApptentiveDingus.ipynb\" target=\"_parent\"><img src=\"https://colab.research.google.com/assets/colab-badge.svg\" alt=\"Open In Colab\"/></a>"
      ]
    },
    {
      "cell_type": "markdown",
      "source": [
        "# The Apptentive Dingus\n",
        "To run: Hover over the black code block and click the \"Play\" button in the top left corner."
      ],
      "metadata": {
        "id": "xXFkCH3FqbuP"
      }
    },
    {
      "cell_type": "code",
      "execution_count": null,
      "metadata": {
        "colab": {
          "base_uri": "https://localhost:8080/"
        },
        "id": "pzzQkQrHWY3P",
        "outputId": "342ef63b-5d3f-4fb4-db18-0d43b3c31cb9"
      },
      "outputs": [
        {
          "output_type": "stream",
          "name": "stdout",
          "text": [
            "/content\n",
            "Mounted at /content/drive\n",
            "Key file successfully loaded.\n",
            "Dictionary loaded successfully from Key file.\n",
            "Files Loaded!\n",
            "Are there any multi-select questions in this set? y/n: y\n",
            "y\n",
            "Multi-Select column indcated. Asking for number.\n",
            "Which question number is a multi-select field? 6\n",
            "Column 6 selected.\n",
            "mc = 6.\n",
            "Load and combine completed. The new file is at /content/drive/Shareddrives/Digital GXT/Apptentive/OutputFile/GenieNewOutput.csv.\n"
          ]
        }
      ],
      "source": [
        "from os import path as osp\n",
        "import pandas as pd\n",
        "import inspect\n",
        "from google.colab import drive\n",
        "import glob\n",
        "\n",
        "class StopExecution(Exception):\n",
        "    def _render_traceback_(self):\n",
        "        pass\n",
        "\n",
        "# Mount Google Drive\n",
        "drive.mount('/content/drive', force_remount=True)\n",
        "\n",
        "# Define Paths:\n",
        "apptentive_path = '/content/drive/MyDrive/Apptentive'\n",
        "key_path= '/content/drive/Shareddrives/Digital GXT/Apptentive/Key.csv'\n",
        "input_path = '/content/drive/Shareddrives/Digital GXT/Apptentive/InputFiles'\n",
        "\n",
        "# Select and open key file\n",
        "dict_key_file = open('/content/drive/Shareddrives/Digital GXT/Apptentive/Key.csv', 'r') \n",
        "\n",
        "# Load Key file into dictionary\n",
        "try:\n",
        "    dict_from_csv = pd.read_csv(\n",
        "        dict_key_file,\n",
        "        header=None,\n",
        "        index_col=0).squeeze(\"columns\")\n",
        "    print('Key file successfully loaded.')\n",
        "  # Handle Key file load error\n",
        "except FileNotFoundError:\n",
        "    print('Key file not found. Make sure it\\'s in the Google Drive!')\n",
        "    print(dict_key_file)\n",
        "    raise StopExecution\n",
        "\n",
        "# Create dictionary from Key\n",
        "dict_from_csv = {k.replace(u'\\xa0', ' '): v.replace(u'\\xa0', ' ')\n",
        "                 for k, v in dict_from_csv.items()}\n",
        "print(\"Dictionary loaded successfully from Key file.\")\n",
        "\n",
        "# Load and read the selected CSVs\n",
        "f = glob.glob(input_path + \"/*.csv\")\n",
        "data = []\n",
        "print(\"Files Loaded!\")\n",
        "\n",
        "# Add the 'appname' column to the dataframe\n",
        "for csv in f:\n",
        "    frame = pd.read_csv(csv)\n",
        "    frame['appname'] = osp.basename(csv).split(\"(\")[0]\n",
        "    data.append(frame)\n",
        "\n",
        "# DO: Concat the files\n",
        "df = pd.concat(data)\n",
        "\n",
        "# Change the question columns to be just the number, for easier reporting\n",
        "group = df.columns.str.split('.').str[0]\n",
        "df = df.fillna('').astype(str).groupby(group, axis=1).apply(\n",
        "    lambda d: d.apply(','.join, axis=1))\n",
        "\n",
        "# Read through dictionary and replace resultes\n",
        "df = df.replace(dict_from_csv)\n",
        "\n",
        "# Remove the \"Null\" thingy that shows up on the network column\n",
        "df = df.replace(\"\\<null\\>\\|\", \"\", regex=True)\n",
        "\n",
        "# For multi-select columns, concat into one column, separated by commas\n",
        "# TODO: There needs to be a way for us to declare which \"column\" is affected by this\n",
        "# Ok, going to try by asking if there's a multi-select column first\n",
        "is_multi = input('Are there any multi-select questions in this set? y/n: ')\n",
        "print(is_multi)\n",
        "if is_multi.upper() == 'Y':\n",
        "    print('Multi-Select column indcated. Asking for number.')\n",
        "    mc = input('Which question number is a multi-select field? ')\n",
        "    print('Column ' + mc + ' selected.')\n",
        "    print('mc = ' + mc + '.')\n",
        "\n",
        "    df[mc] = df[mc].replace(r'\\.(?!\\s|$)', '', regex=True)\n",
        "    df[mc] = df[mc].replace(r'\\,(?!\\w)|(?<!\\w)\\,', '', regex=True)\n",
        "    df[mc] = df[mc].str.split(',')\n",
        "    df = df.explode(mc)\n",
        "\n",
        "# Get save location\n",
        "save_location = '/content/drive/Shareddrives/Digital GXT/Apptentive/OutputFile'\n",
        "save_path = (save_location + '/' + 'GenieNewOutput.csv')\n",
        "\n",
        "# Actually write the file to the root\n",
        "df.to_csv(save_path)\n",
        "\n",
        "print(\"Load and combine completed. The new file is at \" + save_path + \".\")\n"
      ]
    }
  ]
}